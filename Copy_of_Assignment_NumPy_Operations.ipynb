{
  "nbformat": 4,
  "nbformat_minor": 0,
  "metadata": {
    "colab": {
      "name": "Copy of Assignment - NumPy Operations.ipynb",
      "provenance": [],
      "collapsed_sections": []
    },
    "kernelspec": {
      "name": "python3",
      "display_name": "Python 3"
    }
  },
  "cells": [
    {
      "cell_type": "markdown",
      "metadata": {
        "id": "MKXTc2Tas23T"
      },
      "source": [
        "# <u> Use only those concepts which have been taught till now </u>"
      ]
    },
    {
      "cell_type": "code",
      "metadata": {
        "id": "0V3Xtuh9siNn"
      },
      "source": [
        "import numpy as np\n",
        "import time"
      ],
      "execution_count": 1,
      "outputs": []
    },
    {
      "cell_type": "markdown",
      "metadata": {
        "id": "Ase3qjp9cJUC"
      },
      "source": [
        "# <u>**Problem 1**</u>\n",
        "\n",
        "### What is the average value of the first 5 rows of the third and fourth columns?\n",
        "\n"
      ]
    },
    {
      "cell_type": "code",
      "metadata": {
        "id": "xj0SaK7smcPu",
        "colab": {
          "base_uri": "https://localhost:8080/"
        },
        "outputId": "64a567e8-e99d-4f2e-a671-ed1abc4a33ec"
      },
      "source": [
        "np.random.seed(21) # This guarantees the code will generate the same set of random numbers whenever executed\n",
        "random_integers = np.random.randint(1,high=500000, size=(20, 5))\n",
        "random_integers"
      ],
      "execution_count": null,
      "outputs": [
        {
          "output_type": "execute_result",
          "data": {
            "text/plain": [
              "array([[ 80842, 333008, 202553, 140037,  81969],\n",
              "       [ 63857,  42105, 261540, 481981, 176739],\n",
              "       [489984, 326386, 110795, 394863,  25024],\n",
              "       [ 38317,  49982, 408830, 485118,  16119],\n",
              "       [407675, 231729, 265455, 109413, 103399],\n",
              "       [174677, 343356, 301717, 224120, 401101],\n",
              "       [140473, 254634, 112262,  25063, 108262],\n",
              "       [375059, 406983, 208947, 115641, 296685],\n",
              "       [444899, 129585, 171318, 313094, 425041],\n",
              "       [188411, 335140, 141681,  59641, 211420],\n",
              "       [287650,   8973, 477425, 382803, 465168],\n",
              "       [  3975,  32213, 160603, 275485, 388234],\n",
              "       [246225,  56174, 244097,   9350, 496966],\n",
              "       [225516, 273338,  73335, 283013, 212813],\n",
              "       [ 38175, 282399, 318413, 337639, 379802],\n",
              "       [198049, 101115, 419547, 260219, 325793],\n",
              "       [148593, 425024, 348570, 117968, 107007],\n",
              "       [ 52547, 180346, 178760, 305186, 262153],\n",
              "       [ 11835, 449971, 494184, 472031, 353049],\n",
              "       [476442,  35455, 191553, 384154,  29917]])"
            ]
          },
          "metadata": {},
          "execution_count": 55
        }
      ]
    },
    {
      "cell_type": "code",
      "metadata": {
        "id": "N1hhYCZw3V1c",
        "colab": {
          "base_uri": "https://localhost:8080/"
        },
        "outputId": "5dab3dc1-0984-4e75-e3c0-1583c6adbc36"
      },
      "source": [
        "# Your code here\n",
        "start = time.time()\n",
        "g = random_integers[0:5]\n",
        "newlist= g.tolist()\n",
        "\n",
        "# use for loop and find avg  \n",
        "\n",
        "thirdcol=[]\n",
        "for i in range(5):\n",
        "  p=newlist[i][2]\n",
        "  thirdcol.append(p)\n",
        "avgrage_of_3rd_colmn = sum(thirdcol) / len(thirdcol)\n",
        "# print(\"The 3th column list\",thirdcol)\n",
        "\n",
        "# use for loop and find avg  \n",
        "\n",
        "fourthcol=[]\n",
        "for j in range(5):\n",
        "  p=newlist[j][3]\n",
        "  fourthcol.append(p)\n",
        "avgrage_of_4th_colmn = sum(fourthcol) / len(fourthcol)\n",
        "# print(\"The 4th column list\",fourthcol)\n",
        "\n",
        "# print(\"Average value:-\")\n",
        "# print(\"Average of 3rd column is:\",avgrage_of_3rd_colmn)\n",
        "# print(\"Average of 4th column is:\",avgrage_of_4th_colmn)\n",
        "avg = (avgrage_of_4th_colmn+ avgrage_of_3rd_colmn)/2\n",
        "print(\"the avgrage is:\",avg)\n",
        "end = time.time()\n",
        "print(end - start)"
      ],
      "execution_count": null,
      "outputs": [
        {
          "output_type": "stream",
          "text": [
            "the avgrage is: 286058.5\n",
            "0.0005612373352050781\n"
          ],
          "name": "stdout"
        }
      ]
    },
    {
      "cell_type": "code",
      "metadata": {
        "colab": {
          "base_uri": "https://localhost:8080/"
        },
        "id": "aq2rlW9iq09w",
        "outputId": "a3b73101-867d-4f8e-c726-0d478a65b4a5"
      },
      "source": [
        "start = time.time()\n",
        "random_integers[:5,2:4].mean()\n",
        "end = time.time()\n",
        "\n",
        "print(end - start)"
      ],
      "execution_count": null,
      "outputs": [
        {
          "output_type": "stream",
          "text": [
            "0.0001308917999267578\n"
          ],
          "name": "stdout"
        }
      ]
    },
    {
      "cell_type": "markdown",
      "metadata": {
        "id": "POAj5sBgd3gd"
      },
      "source": [
        "#<u>**Problem 2**</u>\n",
        "\n",
        "### In this problem, we are going to calculate distances between some pairs of points :\n",
        "\n",
        "### <u> Measures of distances </u>\n",
        "* ### Euclidean Distance : The distance between two points $(x_{1},y_{1})$ , $(x_{2},y_{2})$ is defined as :\n",
        "${\\displaystyle d(x,y)={\\sqrt {(x_{1}-x_{2})^{2}+(y_{1}-y_{2})^{2}}}.}$\n",
        "\n",
        "* ### Manhattan Distance : The distance between two points $(x_{1},y_{1})$ , $(x_{2},y_{2})$ is defined as :\n",
        "${\\displaystyle d(x,y)=|x_{1}-x_{2}|+|y_{1}-y_{2}|}$\n"
      ]
    },
    {
      "cell_type": "markdown",
      "metadata": {
        "id": "lw7TLsfd-eXc"
      },
      "source": [
        "### Create a 2-D array of 10 points where the x-coordinates and the y-coordinates can take random integral values between 5 and 20.\n",
        "\n",
        "\n",
        "### Next, create two 1-D arrays(one for  Euclidean distance and the other for  Manhattan distance) for these points\n"
      ]
    },
    {
      "cell_type": "code",
      "metadata": {
        "id": "TOEq4PEP5y8X",
        "colab": {
          "base_uri": "https://localhost:8080/"
        },
        "outputId": "87d5ca74-bb5c-41bc-d7cf-6d5ba380daf8"
      },
      "source": [
        "# Create the 10 points\n",
        "list_inegral = np.random.randint(5,21,(10,2),dtype=int)\n",
        "list_inegral"
      ],
      "execution_count": null,
      "outputs": [
        {
          "output_type": "execute_result",
          "data": {
            "text/plain": [
              "array([[15, 20],\n",
              "       [10,  7],\n",
              "       [ 6, 16],\n",
              "       [ 9, 20],\n",
              "       [ 6, 10],\n",
              "       [19,  6],\n",
              "       [13, 17],\n",
              "       [13, 12],\n",
              "       [19, 19],\n",
              "       [ 9,  9]])"
            ]
          },
          "metadata": {},
          "execution_count": 3
        }
      ]
    },
    {
      "cell_type": "code",
      "metadata": {
        "id": "n86qvsfF6PO2",
        "colab": {
          "base_uri": "https://localhost:8080/"
        },
        "outputId": "1d2d75c9-50df-4df2-9ff8-62a2c8b8f027"
      },
      "source": [
        "# Calculate Euclidean distances between these pairs of points (total 10*10 = 100 pairs including self pairs). This should give you a 10*10 2-D array where each value corresponds to the distance between a pair\n",
        "start = time.time()\n",
        "new = list_inegral.tolist()\n",
        "\n",
        "x_list=[]\n",
        "for o in new:\n",
        "  x_list.append(o[0])\n",
        "\n",
        "y_list=[]\n",
        "for p in new:\n",
        "  y_list.append(p[1])\n",
        "\n",
        "Euclidean_distances=[]\n",
        "\n",
        "for x in new:\n",
        "  for y in new:\n",
        "# Euclidean formula\n",
        "    Euclidean=np.sqrt((x[0]-y[0])**2 + (x[1]-y[1])**2)\n",
        "    Euclidean_distances.append(Euclidean)\n",
        "\n",
        "    \n",
        "print(\"X-list-->\",x_list)\n",
        "print(\"Y list-->\",y_list)\n",
        "Euclidean_distances_pair=np.asarray(Euclidean_distances)\n",
        "Euclidean_distances_pair\n",
        "\n",
        "end = time.time()\n",
        "\n",
        "print(end - start)"
      ],
      "execution_count": null,
      "outputs": [
        {
          "output_type": "stream",
          "text": [
            "X-list--> [15, 10, 6, 9, 6, 19, 13, 13, 19, 9]\n",
            "Y list--> [20, 7, 16, 20, 10, 6, 17, 12, 19, 9]\n",
            "0.0018763542175292969\n"
          ],
          "name": "stdout"
        }
      ]
    },
    {
      "cell_type": "code",
      "metadata": {
        "id": "ScfyIaRI9SH4"
      },
      "source": [
        "# np.random.choice([1,2,3],(10,10))"
      ],
      "execution_count": null,
      "outputs": []
    },
    {
      "cell_type": "code",
      "metadata": {
        "id": "-FIU9Wp97V3P",
        "colab": {
          "base_uri": "https://localhost:8080/"
        },
        "outputId": "82114910-6c15-4e31-a146-f0d63bbe3cc6"
      },
      "source": [
        "# Calculate Manhattan distances between these pairs of points (total 10*10 = 100 pairs inlcuding self pairs).This should give you a 10*10 2-D array where each value corresponds to the distance between a pair.\n",
        "# start = time.time()\n",
        "Manhattan_distances=[]\n",
        "\n",
        "for x in new:\n",
        "  for y in new:\n",
        "\n",
        "# Euclidean formula\n",
        "    Manhattan=np.absolute((x[0]-y[0]) + (x[1]-y[1]))\n",
        "    Manhattan_distances.append(Manhattan)\n",
        "\n",
        "print(\"X-list-->\",x_list)\n",
        "print(\"Y list-->\",y_list)\n",
        "Manhattan_distances_pair=np.asarray(Manhattan_distances)\n",
        "Manhattan_distances_pair\n",
        "\n",
        "\n",
        "# end = time.time()\n",
        "\n",
        "# print(end - start)\n"
      ],
      "execution_count": null,
      "outputs": [
        {
          "output_type": "stream",
          "text": [
            "X-list--> [15, 10, 6, 9, 6, 19, 13, 13, 19, 9]\n",
            "Y list--> [20, 7, 16, 20, 10, 6, 17, 12, 19, 9]\n"
          ],
          "name": "stdout"
        },
        {
          "output_type": "execute_result",
          "data": {
            "text/plain": [
              "array([ 0, 18, 13,  6, 19, 10,  5, 10,  3, 17, 18,  0,  5, 12,  1,  8, 13,\n",
              "        8, 21,  1, 13,  5,  0,  7,  6,  3,  8,  3, 16,  4,  6, 12,  7,  0,\n",
              "       13,  4,  1,  4,  9, 11, 19,  1,  6, 13,  0,  9, 14,  9, 22,  2, 10,\n",
              "        8,  3,  4,  9,  0,  5,  0, 13,  7,  5, 13,  8,  1, 14,  5,  0,  5,\n",
              "        8, 12, 10,  8,  3,  4,  9,  0,  5,  0, 13,  7,  3, 21, 16,  9, 22,\n",
              "       13,  8, 13,  0, 20, 17,  1,  4, 11,  2,  7, 12,  7, 20,  0])"
            ]
          },
          "metadata": {},
          "execution_count": 66
        }
      ]
    },
    {
      "cell_type": "markdown",
      "metadata": {
        "id": "5ZaKtQlZBLoQ"
      },
      "source": [
        "## Find the closest pairs (excluding self pairs) on the basis of both the distance measures"
      ]
    },
    {
      "cell_type": "code",
      "metadata": {
        "id": "AeKJGamV6qnu",
        "colab": {
          "base_uri": "https://localhost:8080/"
        },
        "outputId": "83f909d1-aa95-4069-8ac4-bf19645f641d"
      },
      "source": [
        "# Your code here\n",
        "\n",
        "n=np.intersect1d(Euclidean_distances_pair,Manhattan_distances_pair)\n",
        "n\n"
      ],
      "execution_count": null,
      "outputs": [
        {
          "output_type": "execute_result",
          "data": {
            "text/plain": [
              "array([ 0.,  4.,  5.,  6.,  8., 15.])"
            ]
          },
          "metadata": {},
          "execution_count": 123
        }
      ]
    },
    {
      "cell_type": "markdown",
      "metadata": {
        "id": "rnEIpxdzfIhF"
      },
      "source": [
        "# <u>**Problem 3**</u>\n",
        "\n",
        "## Extract all the contiguous 3x3 blocks from a random 10x10 matrix. For example, the first matrix corresponds to [:3,:3], then the second matrix corresponds to [:3,1:4],.... Once you have covered the first three rows, then the next set of matrices would be [1:4,:3],[1:4,1:4],.... and so on and so forth. The last matrix would be [7:10,7:10]"
      ]
    },
    {
      "cell_type": "code",
      "metadata": {
        "id": "NuQh8LLBma-0",
        "colab": {
          "base_uri": "https://localhost:8080/"
        },
        "outputId": "dd5536fe-511b-4972-b8c6-9a03eae96f10"
      },
      "source": [
        "# Your code below ..\n",
        "\n",
        "contiguous_list=[]\n",
        "big_matrix=np.random.randint(1,100,size=(10,10))\n",
        "print(big_matrix)\n",
        "for row in range(0,8):      # for accessing rows one by one\n",
        "    for col in range(0,8):  # for accessing rows one by one\n",
        "        contiguous_list.append(big_matrix[row:row+3,col:col+3])\n",
        "\n",
        "contiguous_array=np.asarray(contiguous_list)\n",
        "\n",
        "print(contiguous_array)\n"
      ],
      "execution_count": 2,
      "outputs": [
        {
          "output_type": "stream",
          "text": [
            "[[70 96 25 14 58 57 88 30 99  8]\n",
            " [99 52 84 15 63 12 51 87 18 42]\n",
            " [ 4 95 86 24 75 88  1 98 76 45]\n",
            " [99 68 87  9 22  1 16 88 99 15]\n",
            " [ 7 79 80 75 58  8 14 30 93 63]\n",
            " [50 71 57 14 25  9 34 17 60 29]\n",
            " [40 86 47 94 25  7 82 95  8 77]\n",
            " [61 36 18 81 89 84  6 34  6 78]\n",
            " [ 2 66 31  7 79 57 84 28 90 41]\n",
            " [10  9 45 53 49 12 62 46  3 80]]\n",
            "[[[70 96 25]\n",
            "  [99 52 84]\n",
            "  [ 4 95 86]]\n",
            "\n",
            " [[96 25 14]\n",
            "  [52 84 15]\n",
            "  [95 86 24]]\n",
            "\n",
            " [[25 14 58]\n",
            "  [84 15 63]\n",
            "  [86 24 75]]\n",
            "\n",
            " [[14 58 57]\n",
            "  [15 63 12]\n",
            "  [24 75 88]]\n",
            "\n",
            " [[58 57 88]\n",
            "  [63 12 51]\n",
            "  [75 88  1]]\n",
            "\n",
            " [[57 88 30]\n",
            "  [12 51 87]\n",
            "  [88  1 98]]\n",
            "\n",
            " [[88 30 99]\n",
            "  [51 87 18]\n",
            "  [ 1 98 76]]\n",
            "\n",
            " [[30 99  8]\n",
            "  [87 18 42]\n",
            "  [98 76 45]]\n",
            "\n",
            " [[99 52 84]\n",
            "  [ 4 95 86]\n",
            "  [99 68 87]]\n",
            "\n",
            " [[52 84 15]\n",
            "  [95 86 24]\n",
            "  [68 87  9]]\n",
            "\n",
            " [[84 15 63]\n",
            "  [86 24 75]\n",
            "  [87  9 22]]\n",
            "\n",
            " [[15 63 12]\n",
            "  [24 75 88]\n",
            "  [ 9 22  1]]\n",
            "\n",
            " [[63 12 51]\n",
            "  [75 88  1]\n",
            "  [22  1 16]]\n",
            "\n",
            " [[12 51 87]\n",
            "  [88  1 98]\n",
            "  [ 1 16 88]]\n",
            "\n",
            " [[51 87 18]\n",
            "  [ 1 98 76]\n",
            "  [16 88 99]]\n",
            "\n",
            " [[87 18 42]\n",
            "  [98 76 45]\n",
            "  [88 99 15]]\n",
            "\n",
            " [[ 4 95 86]\n",
            "  [99 68 87]\n",
            "  [ 7 79 80]]\n",
            "\n",
            " [[95 86 24]\n",
            "  [68 87  9]\n",
            "  [79 80 75]]\n",
            "\n",
            " [[86 24 75]\n",
            "  [87  9 22]\n",
            "  [80 75 58]]\n",
            "\n",
            " [[24 75 88]\n",
            "  [ 9 22  1]\n",
            "  [75 58  8]]\n",
            "\n",
            " [[75 88  1]\n",
            "  [22  1 16]\n",
            "  [58  8 14]]\n",
            "\n",
            " [[88  1 98]\n",
            "  [ 1 16 88]\n",
            "  [ 8 14 30]]\n",
            "\n",
            " [[ 1 98 76]\n",
            "  [16 88 99]\n",
            "  [14 30 93]]\n",
            "\n",
            " [[98 76 45]\n",
            "  [88 99 15]\n",
            "  [30 93 63]]\n",
            "\n",
            " [[99 68 87]\n",
            "  [ 7 79 80]\n",
            "  [50 71 57]]\n",
            "\n",
            " [[68 87  9]\n",
            "  [79 80 75]\n",
            "  [71 57 14]]\n",
            "\n",
            " [[87  9 22]\n",
            "  [80 75 58]\n",
            "  [57 14 25]]\n",
            "\n",
            " [[ 9 22  1]\n",
            "  [75 58  8]\n",
            "  [14 25  9]]\n",
            "\n",
            " [[22  1 16]\n",
            "  [58  8 14]\n",
            "  [25  9 34]]\n",
            "\n",
            " [[ 1 16 88]\n",
            "  [ 8 14 30]\n",
            "  [ 9 34 17]]\n",
            "\n",
            " [[16 88 99]\n",
            "  [14 30 93]\n",
            "  [34 17 60]]\n",
            "\n",
            " [[88 99 15]\n",
            "  [30 93 63]\n",
            "  [17 60 29]]\n",
            "\n",
            " [[ 7 79 80]\n",
            "  [50 71 57]\n",
            "  [40 86 47]]\n",
            "\n",
            " [[79 80 75]\n",
            "  [71 57 14]\n",
            "  [86 47 94]]\n",
            "\n",
            " [[80 75 58]\n",
            "  [57 14 25]\n",
            "  [47 94 25]]\n",
            "\n",
            " [[75 58  8]\n",
            "  [14 25  9]\n",
            "  [94 25  7]]\n",
            "\n",
            " [[58  8 14]\n",
            "  [25  9 34]\n",
            "  [25  7 82]]\n",
            "\n",
            " [[ 8 14 30]\n",
            "  [ 9 34 17]\n",
            "  [ 7 82 95]]\n",
            "\n",
            " [[14 30 93]\n",
            "  [34 17 60]\n",
            "  [82 95  8]]\n",
            "\n",
            " [[30 93 63]\n",
            "  [17 60 29]\n",
            "  [95  8 77]]\n",
            "\n",
            " [[50 71 57]\n",
            "  [40 86 47]\n",
            "  [61 36 18]]\n",
            "\n",
            " [[71 57 14]\n",
            "  [86 47 94]\n",
            "  [36 18 81]]\n",
            "\n",
            " [[57 14 25]\n",
            "  [47 94 25]\n",
            "  [18 81 89]]\n",
            "\n",
            " [[14 25  9]\n",
            "  [94 25  7]\n",
            "  [81 89 84]]\n",
            "\n",
            " [[25  9 34]\n",
            "  [25  7 82]\n",
            "  [89 84  6]]\n",
            "\n",
            " [[ 9 34 17]\n",
            "  [ 7 82 95]\n",
            "  [84  6 34]]\n",
            "\n",
            " [[34 17 60]\n",
            "  [82 95  8]\n",
            "  [ 6 34  6]]\n",
            "\n",
            " [[17 60 29]\n",
            "  [95  8 77]\n",
            "  [34  6 78]]\n",
            "\n",
            " [[40 86 47]\n",
            "  [61 36 18]\n",
            "  [ 2 66 31]]\n",
            "\n",
            " [[86 47 94]\n",
            "  [36 18 81]\n",
            "  [66 31  7]]\n",
            "\n",
            " [[47 94 25]\n",
            "  [18 81 89]\n",
            "  [31  7 79]]\n",
            "\n",
            " [[94 25  7]\n",
            "  [81 89 84]\n",
            "  [ 7 79 57]]\n",
            "\n",
            " [[25  7 82]\n",
            "  [89 84  6]\n",
            "  [79 57 84]]\n",
            "\n",
            " [[ 7 82 95]\n",
            "  [84  6 34]\n",
            "  [57 84 28]]\n",
            "\n",
            " [[82 95  8]\n",
            "  [ 6 34  6]\n",
            "  [84 28 90]]\n",
            "\n",
            " [[95  8 77]\n",
            "  [34  6 78]\n",
            "  [28 90 41]]\n",
            "\n",
            " [[61 36 18]\n",
            "  [ 2 66 31]\n",
            "  [10  9 45]]\n",
            "\n",
            " [[36 18 81]\n",
            "  [66 31  7]\n",
            "  [ 9 45 53]]\n",
            "\n",
            " [[18 81 89]\n",
            "  [31  7 79]\n",
            "  [45 53 49]]\n",
            "\n",
            " [[81 89 84]\n",
            "  [ 7 79 57]\n",
            "  [53 49 12]]\n",
            "\n",
            " [[89 84  6]\n",
            "  [79 57 84]\n",
            "  [49 12 62]]\n",
            "\n",
            " [[84  6 34]\n",
            "  [57 84 28]\n",
            "  [12 62 46]]\n",
            "\n",
            " [[ 6 34  6]\n",
            "  [84 28 90]\n",
            "  [62 46  3]]\n",
            "\n",
            " [[34  6 78]\n",
            "  [28 90 41]\n",
            "  [46  3 80]]]\n"
          ],
          "name": "stdout"
        }
      ]
    },
    {
      "cell_type": "markdown",
      "metadata": {
        "id": "UtGDDH9Qq_2M"
      },
      "source": [
        "#<u>**Problem 4**</u>\n",
        "\n",
        "### Write a function which finds the nearest value from a given value in an array of random N elements. Suppose you created an 1-D array with 15 elements taking values between 10 and 500. Your function would take any input from these values and return the nearest value. (You can use np.abs() function)"
      ]
    },
    {
      "cell_type": "code",
      "metadata": {
        "id": "oknMAmKWFNSX",
        "colab": {
          "base_uri": "https://localhost:8080/"
        },
        "outputId": "6712b6c4-ecf2-4fe8-94b4-9e143f7fdce2"
      },
      "source": [
        "# Your function below\n",
        "\n",
        "def get_nearest_value(elem,array):\n",
        "    \"\"\"Return the nearest value in the given array for given input\"\"\"\n",
        "    nearest_value = array.flat[np.abs(array - elem).argmin()]                   # flatern and then findind the value with min difrence for given input\n",
        "    return nearest_value\n",
        "array=np.random.randint(10,500, size=(1, 15))\n",
        "print(array)\n",
        "\n",
        "\n",
        "\n"
      ],
      "execution_count": 3,
      "outputs": [
        {
          "output_type": "stream",
          "text": [
            "[[146 248  28  19 260  17 415 255 382 425 195 251 128 258  74]]\n"
          ],
          "name": "stdout"
        }
      ]
    },
    {
      "cell_type": "code",
      "metadata": {
        "id": "loBbJmnBqfyD"
      },
      "source": [
        "ele=int(input(\"Enter the element for which you want to find the nearest value for \"))\n",
        "print(f\"Nearest point to {ele} is {get_nearest_value(ele,array)}\")"
      ],
      "execution_count": null,
      "outputs": []
    },
    {
      "cell_type": "code",
      "metadata": {
        "id": "hB5hoQqaqh3t"
      },
      "source": [
        ""
      ],
      "execution_count": null,
      "outputs": []
    }
  ]
}